{
 "cells": [
  {
   "attachments": {},
   "cell_type": "markdown",
   "metadata": {},
   "source": [
    "## LITTLE LEMON ANALYSIS AND SALES REPORT"
   ]
  },
  {
   "cell_type": "code",
   "execution_count": 1,
   "metadata": {},
   "outputs": [
    {
     "name": "stdout",
     "output_type": "stream",
     "text": [
      "Requirement already satisfied: mysql-connector-python in c:\\users\\violet\\appdata\\local\\programs\\python\\python310\\lib\\site-packages (8.0.32)\n",
      "Requirement already satisfied: protobuf<=3.20.3,>=3.11.0 in c:\\users\\violet\\appdata\\local\\programs\\python\\python310\\lib\\site-packages (from mysql-connector-python) (3.20.3)\n",
      "mysql-connector is now intalled\n"
     ]
    }
   ],
   "source": [
    "#Install connector api using the command below.\n",
    "!pip install mysql-connector-python\n",
    "print(\"mysql-connector is now intalled\")"
   ]
  },
  {
   "cell_type": "code",
   "execution_count": 3,
   "metadata": {},
   "outputs": [
    {
     "name": "stdout",
     "output_type": "stream",
     "text": [
      "Name: mysql-connector\n",
      "Version: 2.2.9\n",
      "Summary: MySQL driver written in Python\n",
      "Home-page: http://dev.mysql.com/doc/connector-python/en/index.html\n",
      "Author: Oracle and/or its affiliates\n",
      "Author-email: \n",
      "License: GNU GPLv2 (with FOSS License Exception)\n",
      "Location: c:\\users\\violet\\appdata\\local\\programs\\python\\python310\\lib\\site-packages\n",
      "Requires: \n",
      "Required-by: \n",
      "mysql-connector is present\n"
     ]
    }
   ],
   "source": [
    "#Checking if mysql-connector is installed\n",
    "!pip show mysql-connector\n",
    "print(\"mysql-connector is present\")"
   ]
  },
  {
   "attachments": {},
   "cell_type": "markdown",
   "metadata": {},
   "source": [
    "#### Task 1: Create a connection pool\n",
    "Required Steps:\n",
    "* Import MySQLConnectionPool class from MySQL Connector/Python.\n",
    "* Import the Error class from MySQL Connector/Python.To find the information on the error\n",
    "* Define your database configurations as a Python dictionary object called dbconfig.\n",
    "* Establish a connection pool [pool_name = pool_b] with two connections. \n",
    "* Implement error handling using a try-except block in case the connection fails. "
   ]
  },
  {
   "cell_type": "code",
   "execution_count": 6,
   "metadata": {},
   "outputs": [
    {
     "name": "stdout",
     "output_type": "stream",
     "text": [
      "The connection pool is created with a name:  pool_b\n",
      "The pool size is:  2\n"
     ]
    }
   ],
   "source": [
    "#TASK 1: CREATING A CONNECTION POOL\n",
    "\n",
    "#import MySQLConnectionPool  & Error class from MySQL Connector/Python.\n",
    "from mysql.connector.pooling import MySQLConnectionPool\n",
    "from mysql.connector import Error \n",
    "\n",
    "#Defining my database configurations as a Python dictionary object called dbconfig.\n",
    "dbconfig={\"database\":\"little_lemon_db\", \"user\":\"violet\", \"password\":\"greenin2023\", \"host\":\"localhost\", \n",
    "    \"port\" : 3306, \"auth_plugin\":\"mysql_native_password\"}\n",
    "\n",
    "#Establishing a connection pool [pool_name = pool_b] with two connections while \n",
    "#implementing error handling using a try-except block in case the connection fails\n",
    "try:\n",
    "    pool2=MySQLConnectionPool(pool_name=\"pool_b\",pool_size=2, **dbconfig)\n",
    "    print(\"The connection pool is created with a name: \",pool2.pool_name)\n",
    "    print(\"The pool size is: \",pool2.pool_size)\n",
    "    \n",
    "except Error as er:\n",
    "    print(\"Error code:\", er.errno)\n",
    "    print(\"Error message:\", er.msg)"
   ]
  },
  {
   "attachments": {},
   "cell_type": "markdown",
   "metadata": {},
   "source": [
    "#### Task 2: Connecting guests to the pool\n",
    "Three guests are trying to book dinner slots simultaneously. Get the connections from pool_b and insert the data in the Bookings table\n",
    "* Guest 1:Table Number: 8, First Name: Anees, Last Name: Java, Booking Time: 18:00, EmployeeID: 6\n",
    "* Guest 2:Table Number: 5, First Name: Bald, Last Name: Vin, Booking Time: 19:00, EmployeeID: 6\n",
    "* Guest 3:Table Number: 12, First Name: Jay, Last Name: Kon, Booking Time: 19:30, EmployeeID: 6\n",
    "\n",
    "Return all the connections back to the pool. "
   ]
  },
  {
   "cell_type": "code",
   "execution_count": 7,
   "metadata": {},
   "outputs": [
    {
     "name": "stdout",
     "output_type": "stream",
     "text": [
      "A guest Anees Java with connection ID 387 is requsting to add a booking to the database.\n",
      "cursor object created\n",
      "Booking is for Anees Java is created.\n",
      "\n"
     ]
    }
   ],
   "source": [
    "# TASK 2: GET CONNECTIONS TO THE POOL FOR 3 GUESTS TRYING TO BOOK SIMULTANEOUSLY\n",
    "\n",
    "# Step 1: Getting connection for first guest 1\n",
    "guests = [\"Anees Java\", \"Bald Vin\", \"Jay Kon\"]\n",
    "connection1 = pool2.get_connection()\n",
    "print (\"A guest {} with connection ID {} is requsting to add a booking to the database.\".format(guests[0], \n",
    "connection1.connection_id))\n",
    "\n",
    "#creating cursor object\n",
    "cursor = connection1.cursor()\n",
    "print(\"cursor object created\")\n",
    "\n",
    "#query to insert guest 1's booking\n",
    "guest1_query = \"\"\"INSERT INTO Bookings (TableNo, GuestFirstName, \n",
    "GuestLastName, BookingSlot, EmployeeID)values (8, \"Anees\", \"Java\",\"18:00:00\", 6);\"\"\"\n",
    "\n",
    "#executing guest 1's query\n",
    "cursor.execute(guest1_query)\n",
    "print(\"Booking is for {} is created.\\n\" .format(guests[0]))"
   ]
  },
  {
   "cell_type": "code",
   "execution_count": 8,
   "metadata": {},
   "outputs": [
    {
     "name": "stdout",
     "output_type": "stream",
     "text": [
      "A guest Bald Vin with connection ID 388 is requsting to add a booking to the database.\n",
      "cursor object created\n",
      "Booking is for Bald Vin is created.\n",
      "\n"
     ]
    }
   ],
   "source": [
    "#Step 2: Getting connection for guest 2\n",
    "guests = [\"Anees Java\", \"Bald Vin\", \"Jay Kon\"]\n",
    "connection2 = pool2.get_connection()\n",
    "print (\"A guest {} with connection ID {} is requsting to add a booking to the database.\".format(guests[0+1], \n",
    "connection2.connection_id))\n",
    "\n",
    "#creating cursor object\n",
    "cursor = connection2.cursor()\n",
    "print(\"cursor object created\")\n",
    "\n",
    "#query to insert guest 2's booking\n",
    "guest2_query = \"\"\"INSERT INTO Bookings (TableNo, GuestFirstName, \n",
    "GuestLastName, BookingSlot, EmployeeID)values (5, \"Bald\", \"Vin\", \"19:00:00\",6);\"\"\"\n",
    "\n",
    "#executing guest 1's query\n",
    "cursor.execute(guest2_query)\n",
    "print(\"Booking is for {} is created.\\n\" .format(guests[0+1]))\n"
   ]
  },
  {
   "cell_type": "code",
   "execution_count": 9,
   "metadata": {},
   "outputs": [
    {
     "ename": "PoolError",
     "evalue": "Failed getting connection; pool exhausted",
     "output_type": "error",
     "traceback": [
      "\u001b[1;31m---------------------------------------------------------------------------\u001b[0m",
      "\u001b[1;31mEmpty\u001b[0m                                     Traceback (most recent call last)",
      "File \u001b[1;32mc:\\Users\\Violet\\AppData\\Local\\Programs\\Python\\Python310\\lib\\site-packages\\mysql\\connector\\pooling.py:577\u001b[0m, in \u001b[0;36mMySQLConnectionPool.get_connection\u001b[1;34m(self)\u001b[0m\n\u001b[0;32m    576\u001b[0m \u001b[39mtry\u001b[39;00m:\n\u001b[1;32m--> 577\u001b[0m     cnx \u001b[39m=\u001b[39m \u001b[39mself\u001b[39;49m\u001b[39m.\u001b[39;49m_cnx_queue\u001b[39m.\u001b[39;49mget(block\u001b[39m=\u001b[39;49m\u001b[39mFalse\u001b[39;49;00m)\n\u001b[0;32m    578\u001b[0m \u001b[39mexcept\u001b[39;00m queue\u001b[39m.\u001b[39mEmpty \u001b[39mas\u001b[39;00m err:\n",
      "File \u001b[1;32mc:\\Users\\Violet\\AppData\\Local\\Programs\\Python\\Python310\\lib\\queue.py:168\u001b[0m, in \u001b[0;36mQueue.get\u001b[1;34m(self, block, timeout)\u001b[0m\n\u001b[0;32m    167\u001b[0m     \u001b[39mif\u001b[39;00m \u001b[39mnot\u001b[39;00m \u001b[39mself\u001b[39m\u001b[39m.\u001b[39m_qsize():\n\u001b[1;32m--> 168\u001b[0m         \u001b[39mraise\u001b[39;00m Empty\n\u001b[0;32m    169\u001b[0m \u001b[39melif\u001b[39;00m timeout \u001b[39mis\u001b[39;00m \u001b[39mNone\u001b[39;00m:\n",
      "\u001b[1;31mEmpty\u001b[0m: ",
      "\nThe above exception was the direct cause of the following exception:\n",
      "\u001b[1;31mPoolError\u001b[0m                                 Traceback (most recent call last)",
      "Cell \u001b[1;32mIn[9], line 4\u001b[0m\n\u001b[0;32m      1\u001b[0m \u001b[39m#Step 3: Trying to connect a third user after the first two will throw an error, I make an instance of MySQLConnection \u001b[39;00m\n\u001b[0;32m      2\u001b[0m \u001b[39m#in the next cell below\u001b[39;00m\n\u001b[0;32m      3\u001b[0m guests \u001b[39m=\u001b[39m [\u001b[39m\"\u001b[39m\u001b[39mAnees Java\u001b[39m\u001b[39m\"\u001b[39m, \u001b[39m\"\u001b[39m\u001b[39mBald Vin\u001b[39m\u001b[39m\"\u001b[39m, \u001b[39m\"\u001b[39m\u001b[39mJay Kon\u001b[39m\u001b[39m\"\u001b[39m]\n\u001b[1;32m----> 4\u001b[0m connection3 \u001b[39m=\u001b[39m pool2\u001b[39m.\u001b[39;49mget_connection()\n\u001b[0;32m      5\u001b[0m \u001b[39mprint\u001b[39m (\u001b[39m\"\u001b[39m\u001b[39mA guest \u001b[39m\u001b[39m{}\u001b[39;00m\u001b[39m with connection ID \u001b[39m\u001b[39m{}\u001b[39;00m\u001b[39m is requsting to add a booking to the database.\u001b[39m\u001b[39m\"\u001b[39m\n\u001b[0;32m      6\u001b[0m \u001b[39m.\u001b[39mformat(guests[\u001b[39m0\u001b[39m\u001b[39m+\u001b[39m\u001b[39m2\u001b[39m], connection3\u001b[39m.\u001b[39mconnection_id))\n\u001b[0;32m      8\u001b[0m \u001b[39m#creating cursor object\u001b[39;00m\n",
      "File \u001b[1;32mc:\\Users\\Violet\\AppData\\Local\\Programs\\Python\\Python310\\lib\\site-packages\\mysql\\connector\\pooling.py:579\u001b[0m, in \u001b[0;36mMySQLConnectionPool.get_connection\u001b[1;34m(self)\u001b[0m\n\u001b[0;32m    577\u001b[0m     cnx \u001b[39m=\u001b[39m \u001b[39mself\u001b[39m\u001b[39m.\u001b[39m_cnx_queue\u001b[39m.\u001b[39mget(block\u001b[39m=\u001b[39m\u001b[39mFalse\u001b[39;00m)\n\u001b[0;32m    578\u001b[0m \u001b[39mexcept\u001b[39;00m queue\u001b[39m.\u001b[39mEmpty \u001b[39mas\u001b[39;00m err:\n\u001b[1;32m--> 579\u001b[0m     \u001b[39mraise\u001b[39;00m PoolError(\u001b[39m\"\u001b[39m\u001b[39mFailed getting connection; pool exhausted\u001b[39m\u001b[39m\"\u001b[39m) \u001b[39mfrom\u001b[39;00m \u001b[39merr\u001b[39;00m\n\u001b[0;32m    581\u001b[0m \u001b[39mif\u001b[39;00m (\n\u001b[0;32m    582\u001b[0m     \u001b[39mnot\u001b[39;00m cnx\u001b[39m.\u001b[39mis_connected()\n\u001b[0;32m    583\u001b[0m     \u001b[39mor\u001b[39;00m \u001b[39mself\u001b[39m\u001b[39m.\u001b[39m_config_version \u001b[39m!=\u001b[39m cnx\u001b[39m.\u001b[39mpool_config_version\n\u001b[0;32m    584\u001b[0m ):\n\u001b[0;32m    585\u001b[0m     cnx\u001b[39m.\u001b[39mconfig(\u001b[39m*\u001b[39m\u001b[39m*\u001b[39m\u001b[39mself\u001b[39m\u001b[39m.\u001b[39m_cnx_config)\n",
      "\u001b[1;31mPoolError\u001b[0m: Failed getting connection; pool exhausted"
     ]
    }
   ],
   "source": [
    "#Step 3: Trying to connect a third user after the first two will throw an error, I make an instance of MySQLConnection \n",
    "#in the next cell below\n",
    "guests = [\"Anees Java\", \"Bald Vin\", \"Jay Kon\"]\n",
    "connection3 = pool2.get_connection()\n",
    "print (\"A guest {} with connection ID {} is requsting to add a booking to the database.\"\n",
    ".format(guests[0+2], connection3.connection_id))\n",
    "\n",
    "#creating cursor object\n",
    "cursor = connection3.cursor()\n",
    "print(\"cursor object created\")\n",
    "\n",
    "#query to insert guest 3's booking\n",
    "guest3_query = \"\"\"INSERT INTO Bookings (TableNo, GuestFirstName, \n",
    "GuestLastName, BookingSlot, EmployeeID)values (12, \"Jay\", \"Kon\", \"19:30:00\", 6);\"\"\"\n",
    "\n",
    "#executing guest 3's query\n",
    "cursor.execute(guest3_query)\n",
    "print(\"Booking is for {} is created.\\n\" .format(guests[0+2]))"
   ]
  },
  {
   "cell_type": "code",
   "execution_count": 10,
   "metadata": {},
   "outputs": [
    {
     "name": "stdout",
     "output_type": "stream",
     "text": [
      "A third connection is added in the pool\n",
      "New connection: Jay Kon can now add a booking to the database.\n",
      "Booking is for Jay Kon is created.\n",
      "\n"
     ]
    }
   ],
   "source": [
    "# Step 4:  Creating an instance of MySQLConnection to add an extra connection to the pool for guest 3\n",
    "\n",
    "#importing connector \n",
    "import mysql.connector as connector\n",
    "guests = [\"Anees Java\", \"Bald Vin\", \"Jay Kon\"]\n",
    "\n",
    "#create a connection\n",
    "connection=connector.connect(user=\"violet\",password=\"greenin2023\",host=\"localhost\", \n",
    "    port=3306, auth_plugin =\"mysql_native_password\")\n",
    "\n",
    "#add the connection into the pool\n",
    "pool2.add_connection(cnx=connection)\n",
    "print(\"A third connection is added in the pool\")\n",
    "        \n",
    "connection3guest = pool2.get_connection()\n",
    "print(\"New connection: {} can now add a booking to the database.\".format(guests[0+2])) \n",
    "\n",
    "#query to insert guest 3's booking\n",
    "guest3_query = \"\"\"INSERT INTO Bookings (TableNo, GuestFirstName, \n",
    "GuestLastName, BookingSlot, EmployeeID)values (12, \"Jay\", \"Kon\", \"19:30:00\", 6);\"\"\"\n",
    "\n",
    "#executing guest 3's query\n",
    "cursor.execute(guest3_query)\n",
    "print(\"Booking is for {} is created.\\n\" .format(guests[0+2]))"
   ]
  },
  {
   "cell_type": "code",
   "execution_count": 11,
   "metadata": {},
   "outputs": [
    {
     "name": "stdout",
     "output_type": "stream",
     "text": [
      "Connection 1 is closed\n",
      "Connection 2 is closed\n",
      "Extra connection/s not  yet closed\n"
     ]
    }
   ],
   "source": [
    "#Step 5: Closing the all 3 connections using try-except block to print the error message\n",
    "\n",
    "try:\n",
    "        connection1.close()\n",
    "        print(\"Connection 1 is closed\")\n",
    "        connection2.close()\n",
    "        print(\"Connection 2 is closed\")\n",
    "        connection3guest.close()\n",
    "        print(\"Guest connection 3 is closed\")\n",
    "except:\n",
    "        print(\"Extra connection/s not  yet closed\")\n",
    " "
   ]
  },
  {
   "attachments": {},
   "cell_type": "markdown",
   "metadata": {},
   "source": [
    "#### Task 3: Create a report\n",
    "Create a report containing the following information:\n",
    "* The name and EmployeeID of the Little Lemon manager.\n",
    "* The name and role of the employee who receives the highest salary.\n",
    "* The number of guests booked between 18:00 and 20:00.\n",
    "* The full name and BookingID of all guests waiting to be seated with the receptionist in sorted order with respect to their BookingSlot."
   ]
  },
  {
   "cell_type": "code",
   "execution_count": 12,
   "metadata": {},
   "outputs": [
    {
     "name": "stdout",
     "output_type": "stream",
     "text": [
      "You got connected to pool_b with connection ID 387\n",
      "cursor created\n",
      "LITTLE LEMON REPORT\n",
      "The manager is  Mario Gollini with an employee ID of:  1\n",
      "The highest paid employee is: Mario Gollini  Their role is: Manager  At an annual salary of: $70,000\n",
      "The number of guests booked between 18:00 and 20:00 is  4\n",
      "The guests waiting to be seated are:\n",
      "(3, 'Vanessa McCarthy')\n",
      "(4, 'Marcos Romero')\n",
      "(5, 'Hiroki Yamane')\n",
      "(1, 'Anna Iversen')\n",
      "(2, 'Joakim Iversen')\n",
      "(6, 'Diana Pinto')\n",
      "Connection1 is closed\n"
     ]
    }
   ],
   "source": [
    "#TASK 3: CREATE A REPORT\n",
    "\n",
    "#getting a connection from the pool\n",
    "connection1 = pool2.get_connection()\n",
    "print(\"You got connected to\", pool2.pool_name, \"with connection ID\", connection1.connection_id)\n",
    "\n",
    "#create a cursor.\n",
    "cursor = connection1.cursor()\n",
    "print(\"cursor created\")\n",
    "\n",
    "#query to find manager and their EmployeeID\n",
    "report_query1 = \"\"\"select Name, EmployeeID from Employees where Role = \"Manager\";\"\"\"\n",
    "#query to find highest paid Employee\n",
    "report_query2 = \"\"\"select Name, Role, Annual_Salary from Employees order by Annual_Salary desc limit 1;\"\"\"\n",
    "#query to find number of guests booked at specific time interval\n",
    "report_query3 = \"\"\"select count(BookingID) from Bookings where BookingSlot between \"18:00\" and \"20:00\";\"\"\"\n",
    "#query to find guests waiting to be seated\n",
    "report_query4 = \"\"\"select BookingID, concat(GuestfirstName,' ', GuestLastName) as \"Guest Name\" from Bookings \n",
    "order by BookingSlot asc;\"\"\"\n",
    "print(\"LITTLE LEMON REPORT\")\n",
    "\n",
    "#executing report_query1\n",
    "cursor.execute(report_query1)\n",
    "#getting query1 results\n",
    "results=cursor.fetchall()\n",
    "#displaying query1 results\n",
    "for result in results:\n",
    "    print(\"The manager is \", result [0], \"with an employee ID of: \", result[1])\n",
    "\n",
    "#executing report_query2\n",
    "cursor.execute(report_query2)\n",
    "#getting query2 results\n",
    "results=cursor.fetchall()\n",
    "#displaying query2 results\n",
    "for result in results:\n",
    "    #print (results)\n",
    "    print(\"The highest paid employee is:\", result [0],\" Their role is:\", result[1],\" At an annual salary of:\", result[2])\n",
    "\n",
    "#executing report_query3\n",
    "cursor.execute(report_query3)\n",
    "#getting query3 results\n",
    "results=cursor.fetchall()\n",
    "#displaying query3 results\n",
    "for result in results:\n",
    "    print(\"The number of guests booked between 18:00 and 20:00 is \", result[0]) \n",
    "\n",
    "#executing report_query4\n",
    "cursor.execute(report_query4)\n",
    "#getting query4 results\n",
    "results=cursor.fetchall()\n",
    "#displaying query4 results\n",
    "print(\"The guests waiting to be seated are:\")\n",
    "for result in results:\n",
    "    print(result)\n",
    "\n",
    "#closing connection\n",
    "connection1.close()\n",
    "print(\"Connection1 is closed\")\n"
   ]
  },
  {
   "attachments": {},
   "cell_type": "markdown",
   "metadata": {},
   "source": [
    "Task 4: Create a stored procedure\n",
    "\n",
    "Create a stored procedure named BasicSalesReport that returns the following statistics: \n",
    "* Total sales\n",
    "* Average sale\n",
    "* Minimum bill paid\n",
    "* Maximum bill paid"
   ]
  },
  {
   "cell_type": "code",
   "execution_count": 13,
   "metadata": {},
   "outputs": [
    {
     "name": "stdout",
     "output_type": "stream",
     "text": [
      "You got connection to pool_b\n",
      "Basic Sales Report:\n",
      "Total_Sale : 243\n",
      "Average_Sale : 48.6000\n",
      "Min_Bill_Paid : 37\n",
      "Max_Bill_Paid : 86\n",
      "Connection2 is closed\n"
     ]
    }
   ],
   "source": [
    "#TASK 4: CREATING A STORED PROCEDURE NAMED BasicSalesReport\n",
    "\n",
    "#getting connection from pool\n",
    "connection2 = pool2.get_connection()\n",
    "print(\"You got connection to\", pool2.pool_name)\n",
    "#create a cursor.\n",
    "cursor = connection2.cursor()\n",
    "#execute the query\n",
    "sales_report_query = \"\"\"\n",
    "create procedure if not exists BasicSalesReport()\n",
    "begin\n",
    "select \n",
    "sum(BillAmount) AS TotalSale,\n",
    "avg(BillAmount) AS AverageSale,\n",
    "min(BillAmount) AS MinBillPaid,\n",
    "max(BillAmount) AS MaxBillPaid\n",
    "from Orders;\n",
    "end\"\"\"\n",
    "\n",
    "#execute the query\n",
    "cursor.execute(sales_report_query)\n",
    "\n",
    "#calling the stored procedure \n",
    "cursor.callproc(\"BasicSalesReport\")\n",
    "\n",
    "#retrieving records \n",
    "results = next(cursor.stored_results())\n",
    "results = results.fetchall()\n",
    "\n",
    "# Retrieve column names using list comprehension in a for loop\n",
    "for column_id in cursor.stored_results():\n",
    "    cols = [column[0] for column in column_id.description]\n",
    "\n",
    "print(\"Basic Sales Report:\")\n",
    "for result in results:\n",
    "    print(cols[0], \":\", result[0])\n",
    "    print(cols[1], \":\", result[1])\n",
    "    print(cols[2], \":\", result[2])\n",
    "    print(cols[3], \":\", result[3])\n",
    "\n",
    "#closing connection\n",
    "connection2.close()\n",
    "print(\"Connection2 is closed\")"
   ]
  },
  {
   "attachments": {},
   "cell_type": "markdown",
   "metadata": {},
   "source": [
    "#### Task 5: Display next 3 upcoming bookings and staff involved\n",
    "Little Lemon needs to display the next three upcoming bookings from the Bookings table on the kitchen screen to notify their chefs which orders are due next. \n",
    "* Get a connection from the pool.\n",
    "* Create a buffered cursor.\n",
    "* Combine the data from the Bookings and the Employee tables. \n",
    "* Sort the retrieved records in ascending order. \n",
    "* Then display the information of the first three guests. \n",
    "* Returned the connection back to the pool."
   ]
  },
  {
   "cell_type": "code",
   "execution_count": 14,
   "metadata": {},
   "outputs": [
    {
     "name": "stdout",
     "output_type": "stream",
     "text": [
      "You got connected to pool_b with connection ID 387\n",
      "Buffered cursor created\n",
      "Upcoming Bookings are:\n",
      "[BookingSlot]  15 [Guest_name]  Vanessa McCarthy  [Assigned to]  Giorgos Dioudis [Head Chef]\n",
      "[BookingSlot]  17 [Guest_name]  Marcos Romero  [Assigned to]  Fatma Kaya [Assistant Chef]\n",
      "[BookingSlot]  18 [Guest_name]  Hiroki Yamane  [Assigned to]  Adrian Gollini [Assistant Manager]\n",
      "Connection1 is closed\n"
     ]
    }
   ],
   "source": [
    "#TASK 5: DISPLAY THE NEXT 3 UPCOMING BOOKINGS & STAFF ASSIGNED  \n",
    "\n",
    "#get a connection from the pool created earlier\n",
    "connection1 = pool2.get_connection()\n",
    "print(\"You got connected to\", pool2.pool_name, \"with connection ID\", connection1.connection_id)\n",
    "\n",
    "#create a buffered cursor.\n",
    "cursor = connection1.cursor(buffered=True)\n",
    "print(\"Buffered cursor created\")\n",
    "\n",
    "#query to retrieve the data from Bookings and Employee tables\n",
    "upcoming_bookings = \"\"\"select Hour(Bookings.BookingSlot) as \"Booking Slot\", concat(Bookings.GuestFirstName,' ',Bookings.GuestLastName) as \"GuestName\", \n",
    "concat(Employees.Name,' ', \"[\",Employees.Role,\"]\") as \"Assigned to:\" from Bookings left join Employees on\n",
    "Bookings.EmployeeID = Employees.EmployeeID order by hour(BookingSlot);\"\"\"\n",
    "cursor.execute (upcoming_bookings)\n",
    "\n",
    "#display the information of the first three guests\n",
    "results= cursor.fetchmany(3)\n",
    "print(\"Upcoming Bookings are:\")\n",
    "\n",
    "#displaying reults\n",
    "for result in results:\n",
    "    print(\"[BookingSlot] \", result [0], \"[Guest_name] \",result[1], \" [Assigned to] \", result[2])\n",
    "\n",
    "#Returning the connection back to the pool.\n",
    "connection1.close()\n",
    "print(\"Connection1 is closed\")"
   ]
  }
 ],
 "metadata": {
  "kernelspec": {
   "display_name": "Python 3",
   "language": "python",
   "name": "python3"
  },
  "language_info": {
   "codemirror_mode": {
    "name": "ipython",
    "version": 3
   },
   "file_extension": ".py",
   "mimetype": "text/x-python",
   "name": "python",
   "nbconvert_exporter": "python",
   "pygments_lexer": "ipython3",
   "version": "3.10.7"
  },
  "orig_nbformat": 4,
  "vscode": {
   "interpreter": {
    "hash": "9de0056c6f2cad9a81d5e93a551d6bf9e6c936725506ef4c424d82c22e389351"
   }
  }
 },
 "nbformat": 4,
 "nbformat_minor": 2
}
