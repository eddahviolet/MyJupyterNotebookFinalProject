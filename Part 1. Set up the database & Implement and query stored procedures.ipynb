{
 "cells": [
  {
   "cell_type": "markdown",
   "metadata": {},
   "source": [
    "JUPYTER NOTEBOOK FINAL PROJECT"
   ]
  },
  {
   "attachments": {},
   "cell_type": "markdown",
   "metadata": {},
   "source": [
    "Little Lemon is a family-owned Mediterranean restaurant. They are developing a Python-based application that needs to connect with the MySQL database so that the booking, menu and orders data can be stored in the respective tables. \n",
    "\n",
    "The restaurant owner wants to use the stored data to make data-driven decisions to increase their revenue. Establishing a database is one of their key objectives. "
   ]
  },
  {
   "attachments": {},
   "cell_type": "markdown",
   "metadata": {},
   "source": [
    "Step 1: Establish a connection \n",
    "\n",
    "Open a new Jupyter notebook and import the MySQL Connector/Python API to establish a connection between Python and MySQL database. "
   ]
  },
  {
   "cell_type": "code",
   "execution_count": 2,
   "metadata": {},
   "outputs": [
    {
     "name": "stdout",
     "output_type": "stream",
     "text": [
      "mysql-connector is present\n",
      "Name: mysql-connector\n",
      "Version: 2.2.9\n",
      "Summary: MySQL driver written in Python\n",
      "Home-page: http://dev.mysql.com/doc/connector-python/en/index.html\n",
      "Author: Oracle and/or its affiliates\n",
      "Author-email: \n",
      "License: GNU GPLv2 (with FOSS License Exception)\n",
      "Location: c:\\users\\violet\\appdata\\local\\programs\\python\\python310\\lib\\site-packages\n",
      "Requires: \n",
      "Required-by: \n"
     ]
    }
   ],
   "source": [
    "#Checking if mysql-connector is installed\n",
    "print(\"mysql-connector is present\")\n",
    "!pip show mysql-connector\n"
   ]
  },
  {
   "cell_type": "code",
   "execution_count": 2,
   "metadata": {},
   "outputs": [
    {
     "name": "stdout",
     "output_type": "stream",
     "text": [
      "Connection is established\n"
     ]
    }
   ],
   "source": [
    "#STEP 1: ESTABLISHING A CONNECTION\n",
    "\n",
    "# Importing mysql-connector for use \n",
    "# I had to use the 'auth_plugin' argument, because I altered my MySQL password \n",
    "# to the native one so that it wold coonect with my VS code, otherwise it kept throwing an error\n",
    "import mysql.connector as connector\n",
    "connection = connector.connect (user=\"violet\",password =\"greenin2023\", host =\"localhost\", \n",
    "    port=3306, auth_plugin='mysql_native_password')\n",
    "print(\"Connection is established\")"
   ]
  },
  {
   "cell_type": "markdown",
   "metadata": {},
   "source": [
    "Step 2: Create a cursor\n",
    "\n",
    "Once the connection between Python and MySQL database is successfully established,create a cursor object"
   ]
  },
  {
   "cell_type": "code",
   "execution_count": 3,
   "metadata": {},
   "outputs": [
    {
     "name": "stdout",
     "output_type": "stream",
     "text": [
      "Cursor object is created\n"
     ]
    }
   ],
   "source": [
    "#STEP 2: CREATINGING A CURSOR\n",
    "\n",
    "cursor = connection.cursor()\n",
    "print(\"Cursor object is created\")"
   ]
  },
  {
   "cell_type": "markdown",
   "metadata": {},
   "source": [
    "Step 3: Create the database and set it for use"
   ]
  },
  {
   "cell_type": "code",
   "execution_count": 5,
   "metadata": {},
   "outputs": [
    {
     "name": "stdout",
     "output_type": "stream",
     "text": [
      "Database created\n"
     ]
    }
   ],
   "source": [
    "#STEP 3: CREATING A DATABASE & SET IT FOR USE\n",
    "\n",
    "#Creating the database\n",
    "cursor.execute(\"create database if not exists little_lemon_db\")\n",
    "print(\"Database created\")"
   ]
  },
  {
   "cell_type": "code",
   "execution_count": 4,
   "metadata": {},
   "outputs": [
    {
     "name": "stdout",
     "output_type": "stream",
     "text": [
      "The database in use is  little_lemon_db\n"
     ]
    }
   ],
   "source": [
    "#Accessing the database for use\n",
    "cursor.execute(\"USE little_lemon_db\")\n",
    "print(\"The database in use is \", connection.database)"
   ]
  },
  {
   "cell_type": "markdown",
   "metadata": {},
   "source": [
    "Step 4: Create tables so that I can insert the data. "
   ]
  },
  {
   "cell_type": "code",
   "execution_count": 39,
   "metadata": {},
   "outputs": [
    {
     "name": "stdout",
     "output_type": "stream",
     "text": [
      "MenuItems table created\n",
      "Menus table created\n",
      "Bookings table created\n",
      "Orders table created\n",
      "Employees table created\n"
     ]
    }
   ],
   "source": [
    "#STEP 4: CREATING TABLES\n",
    "\n",
    "#Query to create MenuItems table\n",
    "create_menuitem_table = \"\"\"CREATE TABLE IF NOT EXISTS MenuItems (ItemID INT AUTO_INCREMENT,Name VARCHAR(200),\n",
    "Type VARCHAR(100),Price INT,PRIMARY KEY (ItemID));\"\"\"\n",
    "\n",
    "#Query to create Menu table\n",
    "create_menus_table = \"\"\"CREATE TABLE IF NOT EXISTS Menus (MenuID INT,ItemID INT,Cuisine VARCHAR(100),\n",
    "PRIMARY KEY (MenuID,ItemID));\"\"\"\n",
    "\n",
    "#Query to create Bookings table\n",
    "create_bookings_table = \"\"\"CREATE TABLE IF NOT EXISTS Bookings (BookingID INT AUTO_INCREMENT,TableNo INT,\n",
    "GuestFirstName VARCHAR(100) NOT NULL,GuestLastName VARCHAR(100) NOT NULL,BookingSlot TIME NOT NULL,\n",
    "EmployeeID INT,PRIMARY KEY (BookingID));\"\"\"\n",
    "\n",
    "#query to create Orders table\n",
    "create_orders_table = \"\"\"CREATE TABLE IF NOT EXISTS Orders (OrderID INT,TableNo INT,MenuID INT,BookingID INT,\n",
    "BillAmount INT,Quantity INT,PRIMARY KEY (OrderID,TableNo));\"\"\"\n",
    "\n",
    "#Query to create Employees table\n",
    "create_employees_table = \"\"\"CREATE TABLE IF NOT EXISTS Employees (EmployeeID INT AUTO_INCREMENT, Name VARCHAR(200),\n",
    "Role VARCHAR(100), Address VARCHAR(150),Contact_Number INT,Email VARCHAR(50),Annual_Salary VARCHAR(50), \n",
    "PRIMARY KEY(EmployeeID));\"\"\"\n",
    "\n",
    "#Creating MenuItems table\n",
    "cursor.execute(create_menuitem_table)\n",
    "print (\"MenuItems table created\")\n",
    "\n",
    "#Creating Menus table\n",
    "cursor.execute(create_menus_table)\n",
    "print(\"Menus table created\")\n",
    "\n",
    "#Creating Bookings table\n",
    "cursor.execute(create_bookings_table)\n",
    "print(\"Bookings table created\")\n",
    "\n",
    "#Creating Orders table\n",
    "cursor.execute(create_orders_table)\n",
    "print (\"Orders table created\")\n",
    "\n",
    "#Creating Employees table\n",
    "cursor.execute(create_employees_table)\n",
    "print (\"Employees table created\")\n"
   ]
  },
  {
   "cell_type": "code",
   "execution_count": 41,
   "metadata": {},
   "outputs": [
    {
     "name": "stdout",
     "output_type": "stream",
     "text": [
      "('bookings',)\n",
      "('employees',)\n",
      "('menuitems',)\n",
      "('menus',)\n",
      "('orders',)\n"
     ]
    }
   ],
   "source": [
    "#Showing created tables\n",
    "cursor.execute(\"show tables;\")\n",
    "for table in cursor:\n",
    "    print(table)"
   ]
  },
  {
   "attachments": {},
   "cell_type": "markdown",
   "metadata": {},
   "source": [
    "Step 5: Insert data\n",
    "\n",
    "The tables are ready for me to insert the data. "
   ]
  },
  {
   "cell_type": "code",
   "execution_count": 40,
   "metadata": {},
   "outputs": [
    {
     "name": "stdout",
     "output_type": "stream",
     "text": [
      "MenuItems table populated\n",
      "MenuItems table populated\n",
      "Bookings table populated\n",
      "Orders table populated\n",
      "Employees table populated\n"
     ]
    }
   ],
   "source": [
    "#STEP 5: INSERTING DATA\n",
    "\n",
    "#Query to populate MenuItems table\n",
    "insert_menuitems=\"\"\" INSERT INTO MenuItems (ItemID, Name, Type, Price)\n",
    "VALUES\n",
    "(1, 'Olives','Starters',5),\n",
    "(2, 'Flatbread','Starters', 5),\n",
    "(3, 'Minestrone', 'Starters', 8),\n",
    "(4, 'Tomato bread','Starters', 8),\n",
    "(5, 'Falafel', 'Starters', 7),\n",
    "(6, 'Hummus', 'Starters', 5),\n",
    "(7, 'Greek salad', 'Main Courses', 15),\n",
    "(8, 'Bean soup', 'Main Courses', 12),\n",
    "(9, 'Pizza', 'Main Courses', 15),\n",
    "(10, 'Greek yoghurt','Desserts', 7),\n",
    "(11, 'Ice cream', 'Desserts', 6),\n",
    "(12, 'Cheesecake', 'Desserts', 4),\n",
    "(13, 'Athens White wine', 'Drinks', 25),\n",
    "(14, 'Corfu Red Wine', 'Drinks', 30),\n",
    "(15, 'Turkish Coffee', 'Drinks', 10),\n",
    "(16, 'Turkish Coffee', 'Drinks', 10),\n",
    "(17, 'Kabasa', 'Main Courses', 17);\"\"\"\n",
    "\n",
    "#Query to populate Menus table\n",
    "insert_menu=\"\"\" INSERT INTO Menus (MenuID,ItemID,Cuisine)\n",
    "VALUES\n",
    "(1, 1, 'Greek'),\n",
    "(1, 7, 'Greek'),\n",
    "(1, 10, 'Greek'),\n",
    "(1, 13, 'Greek'),\n",
    "(2, 3, 'Italian'),\n",
    "(2, 9, 'Italian'),\n",
    "(2, 12, 'Italian'),\n",
    "(2, 15, 'Italian'),\n",
    "(3, 5, 'Turkish'),\n",
    "(3, 17, 'Turkish'),\n",
    "(3, 11, 'Turkish'),\n",
    "(3, 16, 'Turkish');\"\"\"\n",
    "\n",
    "#Query to populate Bookings table\n",
    "insert_bookings=\"\"\"INSERT INTO Bookings (BookingID, TableNo, GuestFirstName, \n",
    "GuestLastName, BookingSlot, EmployeeID)\n",
    "VALUES\n",
    "(1, 12, 'Anna','Iversen','19:00:00',1),\n",
    "(2, 12, 'Joakim', 'Iversen', '19:00:00', 1),\n",
    "(3, 19, 'Vanessa', 'McCarthy', '15:00:00', 3),\n",
    "(4, 15, 'Marcos', 'Romero', '17:30:00', 4),\n",
    "(5, 5, 'Hiroki', 'Yamane', '18:30:00', 2),\n",
    "(6, 8, 'Diana', 'Pinto', '20:00:00', 5);\"\"\"\n",
    "\n",
    "#Query to populate Orders table\n",
    "insert_orders=\"\"\"INSERT INTO Orders (OrderID, TableNo, MenuID, BookingID, Quantity, BillAmount)\n",
    "VALUES\n",
    "(1, 12, 1, 1, 2, 86),\n",
    "(2, 19, 2, 2, 1, 37),\n",
    "(3, 15, 2, 3, 1, 37),\n",
    "(4, 5, 3, 4, 1, 40),\n",
    "(5, 8, 1, 5, 1, 43);\"\"\"\n",
    "\n",
    "#Query to populate Employees table\n",
    "insert_employees = \"\"\"\n",
    "INSERT INTO employees (EmployeeID, Name, Role, Address, Contact_Number, Email, Annual_Salary)\n",
    "VALUES\n",
    "(01,'Mario Gollini','Manager','724, Parsley Lane, Old Town, Chicago, IL',351258074,'Mario.g@littlelemon.com','$70,000'),\n",
    "(02,'Adrian Gollini','Assistant Manager','334, Dill Square, Lincoln Park, Chicago, IL',351474048,'Adrian.g@littlelemon.com','$65,000'),\n",
    "(03,'Giorgos Dioudis','Head Chef','879 Sage Street, West Loop, Chicago, IL',351970582,'Giorgos.d@littlelemon.com','$50,000'),\n",
    "(04,'Fatma Kaya','Assistant Chef','132  Bay Lane, Chicago, IL',351963569,'Fatma.k@littlelemon.com','$45,000'),\n",
    "(05,'Elena Salvai','Head Waiter','989 Thyme Square, EdgeWater, Chicago, IL',351074198,'Elena.s@littlelemon.com','$40,000'),\n",
    "(06,'John Millar','Receptionist','245 Dill Square, Lincoln Park, Chicago, IL',351584508,'John.m@littlelemon.com','$35,000');\"\"\"\n",
    "\n",
    "#Populating MenuItems table\n",
    "cursor.execute(insert_menuitems)\n",
    "connection.commit()\n",
    "print(\"MenuItems table populated\")\n",
    "\n",
    "#Populating MenuItems table\n",
    "cursor.execute(insert_menu)\n",
    "connection.commit()\n",
    "print (\"MenuItems table populated\")\n",
    "\n",
    "#Populating Bookings table\n",
    "cursor.execute(insert_bookings)\n",
    "connection.commit()\n",
    "print (\"Bookings table populated\")\n",
    "\n",
    "#Populating Orders table\n",
    "cursor.execute(insert_orders)\n",
    "connection.commit()\n",
    "print(\"Orders table populated\")\n",
    "\n",
    "#Populating Employees table\n",
    "cursor.execute(insert_employees)\n",
    "connection.commit()\n",
    "print(\"Employees table populated\")"
   ]
  },
  {
   "attachments": {},
   "cell_type": "markdown",
   "metadata": {},
   "source": [
    "Step 6: Connection Pooling\n",
    "\n",
    "Import MySQLConnectionPool\n",
    "\n",
    "Import Error\n",
    "\n",
    "Establish a connection Create a pool named pool_a with two connections. Use a try-except block to handle any possible errors\n",
    "\n"
   ]
  },
  {
   "cell_type": "code",
   "execution_count": 4,
   "metadata": {},
   "outputs": [
    {
     "name": "stdout",
     "output_type": "stream",
     "text": [
      "The connection pool is created with a name:  pool_a\n",
      "The pool size is: 2\n"
     ]
    }
   ],
   "source": [
    "#STEP 6: CREATE A POOL WITH 2 CONNECTIONS & ESTABLISH A CONNECTION\n",
    "\n",
    "#import MySQLConnectionPool & Error\n",
    "from mysql.connector.pooling import MySQLConnectionPool\n",
    "from mysql.connector import Error \n",
    "#defining databse configuration\n",
    "dbconfig={\"database\":\"little_lemon_db\", \"user\":\"violet\", \"password\":\"greenin2023\", \"host\":\"localhost\", \n",
    "    \"port\" : 3306, \"auth_plugin\":\"mysql_native_password\"}\n",
    "#Establishing a connection pool [pool_name = pool_a] with two connections while \n",
    "#implementing error handling using a try-except block in case the connection fails\n",
    "try:\n",
    "    pool1=MySQLConnectionPool(pool_name=\"pool_a\",pool_size=2, **dbconfig)\n",
    "    print(\"The connection pool is created with a name: \",pool1.pool_name)\n",
    "    print(\"The pool size is:\",pool1.pool_size)\n",
    "    \n",
    "except Error as er:\n",
    "    print(\"Error code:\", er.errno)\n",
    "    print(\"Error message:\", er.msg)"
   ]
  },
  {
   "cell_type": "code",
   "execution_count": 7,
   "metadata": {},
   "outputs": [
    {
     "name": "stdout",
     "output_type": "stream",
     "text": [
      "Getting a connection from pool1, please be patient\n",
      "Be aware a user with connection id 386 is connected to the database.\n",
      "MySQL server version is: 8.0.32\n",
      "cursor object created\n",
      "Connection1 is closed\n"
     ]
    }
   ],
   "source": [
    "#obtaining  a connection from pool_a & creating a cursor object to communicate with the database\n",
    "connection1 = pool1.get_connection()\n",
    "print(\"Getting a connection from pool1, please be patient\")\n",
    " \n",
    "print (\"Be aware a user with connection id {} is connected to the database.\" .format(connection1.connection_id))\n",
    "db_Info = connection1.get_server_info()\n",
    "print(\"MySQL server version is:\", db_Info)\n",
    "\n",
    "# Create cursor object \n",
    "cursor = connection1.cursor()\n",
    "print(\"cursor object created\")\n",
    "#closing connection\n",
    "connection1.close()\n",
    "print(\"Connection1 is closed\")\n"
   ]
  },
  {
   "attachments": {},
   "cell_type": "markdown",
   "metadata": {},
   "source": [
    "Step 7: Implement a stored procedure called PeakHours\n",
    "\n",
    "Write a SQL CREATE PROCEDURE query for PeakHours\n",
    " - Use HOUR to extract the hour part from the BookingSlot.\n",
    "\n",
    " - Use COUNT on hour to count the number of bookings.\n",
    "\n",
    " - Use GROUP BY on booking hour.\n",
    "\n",
    " - Use ORDER BY on the number of bookings in descending order."
   ]
  },
  {
   "cell_type": "code",
   "execution_count": 14,
   "metadata": {},
   "outputs": [
    {
     "name": "stdout",
     "output_type": "stream",
     "text": [
      "['BookingHour', 'NumberOfBookings']\n",
      "(19, 2)\n",
      "(15, 1)\n",
      "(17, 1)\n",
      "(18, 1)\n",
      "(20, 1)\n"
     ]
    }
   ],
   "source": [
    "#STEP 7: IMPLEMENT A STORED PROCEDURE CALLED PeakHours\n",
    "\n",
    "#creating a stored procedure called PeakHours\n",
    "peak_hour_query= \"\"\"create procedure if not exists PeakHours()\n",
    "begin\n",
    "select hour(BookingSlot) AS BookingHour, count(hour(BookingSlot)) as NumberOfBookings from Bookings\n",
    "group by BookingHour order by NumberOfBookings desc;\n",
    "end\"\"\"\n",
    "#executing query\n",
    "cursor.execute(peak_hour_query)\n",
    "#call the stored procedure\n",
    "cursor.callproc(\"PeakHours\")\n",
    "#getting the results\n",
    "results = next(cursor.stored_results())\n",
    "dataset= results.fetchall()\n",
    "\n",
    "#Retrieve column names \n",
    "for column_id in cursor.stored_results():\n",
    "       columns = [column[0] for column in column_id.description]\n",
    "\n",
    "#printing column names:\n",
    "print(columns)\n",
    "\n",
    "#printing data\n",
    "for data in dataset:\n",
    "   print(data)\n",
    "   "
   ]
  },
  {
   "attachments": {},
   "cell_type": "markdown",
   "metadata": {},
   "source": [
    "Step 8: Implement a stored procedure GuestStatus\n",
    "\n",
    "Write a SQL CREATE PROCEDURE query for GuestStatus.\n",
    "\n",
    " - Combine the guest’s first and last name from the booking column using CONCAT. \n",
    "\n",
    " - Use CASE to implement the following statuses for each guest’s order:\n",
    "\n",
    "         - If the Role in the Employee table is Manager or Assistant Manager then the guest’s order status is Ready to pay\n",
    "\n",
    "         - If the Role in the Employee table is Head Chef then the status is Ready to serve\n",
    "\n",
    "         - If the Role in the Employee table is Assistant Chef then the status is Preparing Order\n",
    "\n",
    "         - If the Role in the Employee table is Head Waiter then the status is Order served"
   ]
  },
  {
   "cell_type": "code",
   "execution_count": 13,
   "metadata": {},
   "outputs": [
    {
     "name": "stdout",
     "output_type": "stream",
     "text": [
      "['GuestName', 'Guest Order Status']\n",
      "('Anna Iversen', 'Ready to Pay')\n",
      "('Joakim Iversen', 'Ready to Pay')\n",
      "('Vanessa McCarthy', 'Not Ordered Yet')\n",
      "('Marcos Romero', 'Preparing Order')\n",
      "('Hiroki Yamane', 'Ready to Pay')\n",
      "('Diana Pinto', 'Order Served')\n"
     ]
    }
   ],
   "source": [
    "#STEP 8: IMPLEMENT A STORED PROCEDURE CALLED GuestStatus\n",
    "\n",
    "#Creating a stored procedure called GuestStatus \n",
    "guest_status_query = \"\"\" create procedure if not exists GuestStatus()\n",
    "begin\n",
    "select concat(Bookings.GuestFirstName,' ', Bookings.GuestLastName) as GuestName, \n",
    "case\n",
    "when Role in (\"Manager\", \"Assistant Manager\") then \"Ready to Pay\"\n",
    "when Role in (\"Assistant Chef\") then \"Preparing Order\"\n",
    "when Role in (\"Head Waiter\") then \"Order Served\"\n",
    "else \"Not Ordered Yet\"\n",
    "end as \"Guest Order Status\"\n",
    "from Bookings left join Employees on Bookings.EmployeeID = Employees.EmployeeID;\n",
    "end\n",
    "\"\"\"\n",
    "#Running the stored procedure query by invoking execute module on the cursor.\n",
    "cursor.execute(guest_status_query)\n",
    "\n",
    "#Invoking callproc to call the stored procedure.\n",
    "cursor.callproc(\"GuestStatus\")\n",
    "\n",
    "#Fetching the results in a variable called dataset.\n",
    "results = next(cursor.stored_results())\n",
    "dataset = results.fetchall()\n",
    "\n",
    "#Extracting the names of the columns.\n",
    "for column_id in cursor.stored_results():\n",
    "    columns = [ column[0] for column in column_id.description ]\n",
    "\n",
    "#Printing the names of the columns.\n",
    "print(columns)\n",
    "\n",
    "#Print the sorted data using for loop.\n",
    "for data in dataset:\n",
    "    print (data)\n",
    "\n"
   ]
  }
 ],
 "metadata": {
  "kernelspec": {
   "display_name": "Python 3",
   "language": "python",
   "name": "python3"
  },
  "language_info": {
   "codemirror_mode": {
    "name": "ipython",
    "version": 3
   },
   "file_extension": ".py",
   "mimetype": "text/x-python",
   "name": "python",
   "nbconvert_exporter": "python",
   "pygments_lexer": "ipython3",
   "version": "3.10.7"
  },
  "orig_nbformat": 4,
  "vscode": {
   "interpreter": {
    "hash": "9de0056c6f2cad9a81d5e93a551d6bf9e6c936725506ef4c424d82c22e389351"
   }
  }
 },
 "nbformat": 4,
 "nbformat_minor": 2
}
